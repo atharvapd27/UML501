{
  "cells": [
    {
      "cell_type": "code",
      "execution_count": 1,
      "metadata": {
        "colab": {
          "base_uri": "https://localhost:8080/"
        },
        "id": "NQ7_s2dKlGRf",
        "outputId": "6a83368a-8fac-4ecd-fb51-b1e7c856be3b"
      },
      "outputs": [
        {
          "name": "stdout",
          "output_type": "stream",
          "text": [
            "Reversed: [5 4 6 3 2 1]\n"
          ]
        }
      ],
      "source": [
        "# Question1a\n",
        "import numpy as np\n",
        "arr = np.array([1, 2, 3, 6, 4, 5])\n",
        "print(\"Reversed:\", arr[::-1])\n",
        "\n",
        "\n"
      ]
    },
    {
      "cell_type": "code",
      "execution_count": 2,
      "metadata": {
        "colab": {
          "background_save": true
        },
        "id": "2-hg_90Roolu",
        "outputId": "a1baebe8-189c-4e2c-e37d-ae05a6669e52"
      },
      "outputs": [
        {
          "name": "stdout",
          "output_type": "stream",
          "text": [
            "[1 2 3 2 4 5 1 2 3]\n",
            "[1 2 3 2 4 5 1 2 3]\n"
          ]
        }
      ],
      "source": [
        "# Question1b\n",
        "array1 = np.array([[1, 2, 3], [2, 4, 5], [1, 2, 3]])\n",
        "print(array1.ravel())\n",
        "print(array1.flatten())"
      ]
    },
    {
      "cell_type": "code",
      "execution_count": 3,
      "metadata": {
        "colab": {
          "base_uri": "https://localhost:8080/"
        },
        "id": "bFaISYMVrfSH",
        "outputId": "6302b2e3-86b5-4e02-f79a-f6e26913afdb"
      },
      "outputs": [
        {
          "data": {
            "text/plain": [
              "True"
            ]
          },
          "execution_count": 3,
          "metadata": {},
          "output_type": "execute_result"
        }
      ],
      "source": [
        "#Question1c\n",
        "arr1 = np.array([[1, 2], [3, 4]])\n",
        "arr2 = np.array([[1, 2], [3, 4]])\n",
        "np.array_equal(arr1, arr2)\n"
      ]
    },
    {
      "cell_type": "code",
      "execution_count": 4,
      "metadata": {
        "id": "khdJPpNLorEs"
      },
      "outputs": [
        {
          "name": "stdout",
          "output_type": "stream",
          "text": [
            "Most frequent: 1\n",
            "Indices: (array([0, 5, 7, 8, 9]),)\n"
          ]
        }
      ],
      "source": [
        "# Question1d\n",
        "x = np.array([1,2,3,4,5,1,2,1,1,1])\n",
        "from collections import Counter\n",
        "most_common = Counter(x).most_common(1)[0][0]\n",
        "print(\"Most frequent:\", most_common)\n",
        "print(\"Indices:\", np.where(x == most_common))"
      ]
    },
    {
      "cell_type": "code",
      "execution_count": 10,
      "metadata": {},
      "outputs": [
        {
          "name": "stdout",
          "output_type": "stream",
          "text": [
            "Most frequent: 1\n",
            "Indices: (array([0, 1, 2]),)\n"
          ]
        }
      ],
      "source": [
        "y = np.array([1, 1, 1, 2, 3, 4, 2, 4, 3, 3])\n",
        "from collections import Counter\n",
        "most_common = Counter(y).most_common(1)[0][0]\n",
        "print(\"Most frequent:\", most_common)\n",
        "print(\"Indices:\", np.where(y == most_common))"
      ]
    },
    {
      "cell_type": "code",
      "execution_count": 5,
      "metadata": {
        "id": "4PY1Nouhtiys"
      },
      "outputs": [
        {
          "name": "stdout",
          "output_type": "stream",
          "text": [
            "45\n",
            "[[14]\n",
            " [16]\n",
            " [15]]\n",
            "[[20  9 16]]\n"
          ]
        }
      ],
      "source": [
        "# q1 e\n",
        "gfg = np.matrix('[4, 1, 9; 12, 3, 1; 4, 5, 6]')\n",
        "\n",
        "# i. Sum of all elements\n",
        "total_sum = np.sum(gfg)\n",
        "\n",
        "# ii. Row-wise sum\n",
        "row_sum = np.sum(gfg, axis=1)\n",
        "\n",
        "# iii. Column-wise sum\n",
        "col_sum = np.sum(gfg, axis=0)\n",
        "\n",
        "print(total_sum)\n",
        "print(row_sum)\n",
        "print(col_sum)\n"
      ]
    },
    {
      "cell_type": "code",
      "execution_count": 11,
      "metadata": {},
      "outputs": [
        {
          "name": "stdout",
          "output_type": "stream",
          "text": [
            "Diagonal sum: 176\n",
            "Eigen values: [98.16835147 28.097044   49.73460452]\n",
            "Eigen vectors:\n",
            " [[ 0.4574917   0.34637121 -0.15017693]\n",
            " [ 0.28447814 -0.72784061 -0.4852124 ]\n",
            " [ 0.84248058  0.59184038  0.8614034 ]]\n",
            "Inverse:\n",
            " [[ 0.02404141 -0.00911212 -0.00444671]\n",
            " [-0.01667882  0.02966905  0.0024785 ]\n",
            " [ 0.00631287 -0.01603732  0.01217379]]\n",
            "Determinant: 137180.0000000001\n"
          ]
        }
      ],
      "source": [
        "#q1 f\n",
        "n_array = np.array([[55, 25, 15], [30, 44, 2], [11, 45, 77]])\n",
        "print(\"Diagonal sum:\", np.trace(n_array))\n",
        "print(\"Eigen values:\", np.linalg.eigvals(n_array))\n",
        "eigvals, eigvecs = np.linalg.eig(n_array)\n",
        "print(\"Eigen vectors:\\n\", eigvecs)\n",
        "print(\"Inverse:\\n\", np.linalg.inv(n_array))\n",
        "print(\"Determinant:\", np.linalg.det(n_array))"
      ]
    },
    {
      "cell_type": "code",
      "execution_count": null,
      "metadata": {},
      "outputs": [],
      "source": [
        "# q1 g\n",
        "# i.\n",
        "p1 = np.array([[1, 2], [2, 3]])\n",
        "q1 = np.array([[4, 5], [6, 7]])\n",
        "product1 = np.dot(p1, q1)\n",
        "cov1 = np.cov(p1.T, q1.T)\n",
        "\n",
        "# ii.\n",
        "p2 = np.array([[1, 2], [2, 3], [4, 5]])\n",
        "q2 = np.array([[4, 5, 1], [6, 7, 2]])\n",
        "product2 = np.dot(p2, q2)\n",
        "cov2 = np.cov(p2.flatten(), q2.flatten())\n",
        "\n",
        "print(product1)\n",
        "print(cov1)\n",
        "print(product2)\n",
        "print(cov2)"
      ]
    },
    {
      "cell_type": "code",
      "execution_count": null,
      "metadata": {
        "id": "Hwzo6n05t8i4"
      },
      "outputs": [
        {
          "name": "stdout",
          "output_type": "stream",
          "text": [
            "[[17 52]\n",
            " [13 62]]\n",
            "[[ 2 10  0 10 20  6]\n",
            " [ 3 15  0 15 30  9]\n",
            " [ 4 20  0 20 40 12]\n",
            " [ 3 15  0 15 30  9]\n",
            " [ 2 10  0 10 20  6]\n",
            " [ 9 45  0 45 90 27]]\n",
            "[[ 2  1]\n",
            " [ 2  5]\n",
            " [ 2  0]\n",
            " [ 2  5]\n",
            " [ 2 10]\n",
            " [ 2  3]\n",
            " [ 3  1]\n",
            " [ 3  5]\n",
            " [ 3  0]\n",
            " [ 3  5]\n",
            " [ 3 10]\n",
            " [ 3  3]\n",
            " [ 4  1]\n",
            " [ 4  5]\n",
            " [ 4  0]\n",
            " [ 4  5]\n",
            " [ 4 10]\n",
            " [ 4  3]\n",
            " [ 3  1]\n",
            " [ 3  5]\n",
            " [ 3  0]\n",
            " [ 3  5]\n",
            " [ 3 10]\n",
            " [ 3  3]\n",
            " [ 2  1]\n",
            " [ 2  5]\n",
            " [ 2  0]\n",
            " [ 2  5]\n",
            " [ 2 10]\n",
            " [ 2  3]\n",
            " [ 9  1]\n",
            " [ 9  5]\n",
            " [ 9  0]\n",
            " [ 9  5]\n",
            " [ 9 10]\n",
            " [ 9  3]]\n"
          ]
        }
      ],
      "source": [
        "#q1 h\n",
        "x = np.array([[2, 3, 4], [3, 2, 9]])\n",
        "y = np.array([[1, 5, 0], [5, 10, 3]])\n",
        "\n",
        "# Inner product\n",
        "inner = np.inner(x, y)\n",
        "\n",
        "# Outer product (flattened)\n",
        "outer = np.outer(x, y)\n",
        "\n",
        "# Cartesian product\n",
        "cartesian = np.array(np.meshgrid(x.flatten(), y.flatten())).T.reshape(-1, 2)\n",
        "\n",
        "print(inner)\n",
        "print(outer)\n",
        "print(cartesian)\n"
      ]
    },
    {
      "cell_type": "code",
      "execution_count": null,
      "metadata": {
        "id": "fdqFllMMrOH6"
      },
      "outputs": [
        {
          "name": "stdout",
          "output_type": "stream",
          "text": [
            "[[1 2 3]\n",
            " [4 5 6]]\n",
            "[-3.5 -0.5  2.5]\n",
            "[[-2.75 -0.25 -3.75]\n",
            " [-1.5   1.5  -1.5 ]\n",
            " [-0.25  3.25  0.75]]\n",
            "[[-0.5 -5. ]\n",
            " [ 1.  -4. ]\n",
            " [ 2.   0.5]]\n",
            "-0.5 -0.5 3.8622100754188224\n",
            "[-1.5  1.5 -1.5]\n",
            "[ 0.66666667 -1.66666667]\n"
          ]
        }
      ],
      "source": [
        "# Q2 a\n",
        "array = np.array([[1, -2, 3],[-4, 5, -6]])\n",
        "\n",
        "# i. Absolute\n",
        "abs_array = np.abs(array)\n",
        "\n",
        "# ii. Percentiles\n",
        "flat = array.flatten()\n",
        "percentiles = np.percentile(flat, [25, 50, 75])\n",
        "col_percentiles = np.percentile(array, [25, 50, 75], axis=0)\n",
        "row_percentiles = np.percentile(array, [25, 50, 75], axis=1)\n",
        "\n",
        "print(abs_array)\n",
        "print(percentiles)\n",
        "print(col_percentiles)\n",
        "print(row_percentiles)\n",
        "\n",
        "# iii. Stats\n",
        "mean = np.mean(flat)\n",
        "median = np.median(flat)\n",
        "std = np.std(flat)\n",
        "\n",
        "col_mean = np.mean(array, axis=0)\n",
        "row_mean = np.mean(array, axis=1)\n",
        "\n",
        "print(mean, median, std)\n",
        "print(col_mean)\n",
        "print(row_mean)\n"
      ]
    },
    {
      "cell_type": "code",
      "execution_count": 13,
      "metadata": {
        "id": "FPYH9hmmuPUN"
      },
      "outputs": [
        {
          "name": "stdout",
          "output_type": "stream",
          "text": [
            "[-2. -2. -1.  0.  1.  1.  3.]\n",
            "[-1. -1. -0.  1.  2.  2.  3.]\n",
            "[-1. -1. -0.  0.  1.  1.  3.]\n",
            "[-2. -2. -0.  0.  2.  2.  3.]\n"
          ]
        }
      ],
      "source": [
        "#q2 b\n",
        "a = np.array([-1.8, -1.6, -0.5, 0.5, 1.6, 1.8, 3.0])\n",
        "\n",
        "floor_vals = np.floor(a)\n",
        "ceil_vals = np.ceil(a)\n",
        "trunc_vals = np.trunc(a)\n",
        "round_vals = np.round(a)\n",
        "\n",
        "print(floor_vals)\n",
        "print(ceil_vals)\n",
        "print(trunc_vals)\n",
        "print(round_vals)\n"
      ]
    },
    {
      "cell_type": "code",
      "execution_count": null,
      "metadata": {
        "id": "mRKDCjUvrUhg"
      },
      "outputs": [
        {
          "name": "stdout",
          "output_type": "stream",
          "text": [
            "Sorted: [ 10  16  16  52  54  62 453]\n",
            "Sorted Indices: [0 3 4 1 5 2 6]\n",
            "4 Smallest: [10 16 16 52]\n",
            "5 Largest: [ 16  52  54  62 453]\n"
          ]
        }
      ],
      "source": [
        "# Q3 a\n",
        "a = np.array([10, 52, 62, 16, 16, 54, 453])\n",
        "print(\"Sorted:\", np.sort(a))\n",
        "print(\"Sorted Indices:\", np.argsort(a))\n",
        "print(\"4 Smallest:\", np.sort(a)[:4])\n",
        "print(\"5 Largest:\", np.sort(a)[-5:])"
      ]
    },
    {
      "cell_type": "code",
      "execution_count": 16,
      "metadata": {},
      "outputs": [
        {
          "name": "stdout",
          "output_type": "stream",
          "text": [
            "Integers: [1. 2. 3. 2.]\n",
            "Floats: [1.2 2.2]\n"
          ]
        }
      ],
      "source": [
        "#Q3 b\n",
        "b = np.array([1.0, 1.2, 2.2, 2.0, 3.0, 2.0])\n",
        "print(\"Integers:\", b[b == b.astype(int)])\n",
        "print(\"Floats:\", b[b != b.astype(int)])"
      ]
    },
    {
      "cell_type": "code",
      "execution_count": null,
      "metadata": {},
      "outputs": [
        {
          "name": "stdout",
          "output_type": "stream",
          "text": [
            "Unsupported image format\n"
          ]
        }
      ],
      "source": [
        "import numpy as np\n",
        "from PIL import Image\n",
        "\n",
        "def img_to_array(path):\n",
        "    img = Image.open(path)\n",
        "    arr = np.array(img)\n",
        "    \n",
        "    if len(arr.shape) == 2:  # Grayscale\n",
        "        np.savetxt(\"grayscale_image.txt\", arr, fmt='%d')\n",
        "        print(\"Saved as grayscale_image.txt\")\n",
        "    elif len(arr.shape) == 3 and arr.shape[2] == 3:  # RGB\n",
        "        arr_reshaped = arr.reshape(-1, 3)\n",
        "        np.savetxt(\"rgb_image.txt\", arr_reshaped, fmt='%d')\n",
        "        print(\"Saved as rgb_image.txt\")\n",
        "    else:\n",
        "        print(\"Unsupported image format\")\n",
        "\n",
        "\n",
        "img_to_array(\"your_image_path_here.jpg\")\n",
        "\n"
      ]
    },
    {
      "cell_type": "code",
      "execution_count": null,
      "metadata": {},
      "outputs": [
        {
          "ename": "FileNotFoundError",
          "evalue": "grayscale_image.txt not found.",
          "output_type": "error",
          "traceback": [
            "\u001b[31m---------------------------------------------------------------------------\u001b[39m",
            "\u001b[31mFileNotFoundError\u001b[39m                         Traceback (most recent call last)",
            "\u001b[36mCell\u001b[39m\u001b[36m \u001b[39m\u001b[32mIn[3]\u001b[39m\u001b[32m, line 2\u001b[39m\n\u001b[32m      1\u001b[39m \u001b[38;5;66;03m#q4 b\u001b[39;00m\n\u001b[32m----> \u001b[39m\u001b[32m2\u001b[39m grayscale_data = \u001b[43mnp\u001b[49m\u001b[43m.\u001b[49m\u001b[43mloadtxt\u001b[49m\u001b[43m(\u001b[49m\u001b[33;43m\"\u001b[39;49m\u001b[33;43mgrayscale_image.txt\u001b[39;49m\u001b[33;43m\"\u001b[39;49m\u001b[43m,\u001b[49m\u001b[43m \u001b[49m\u001b[43mdtype\u001b[49m\u001b[43m=\u001b[49m\u001b[38;5;28;43mint\u001b[39;49m\u001b[43m)\u001b[49m\n\u001b[32m      3\u001b[39m \u001b[38;5;28mprint\u001b[39m(grayscale_data.shape)\n\u001b[32m      5\u001b[39m rgb_data = np.loadtxt(\u001b[33m\"\u001b[39m\u001b[33mrgb_image.txt\u001b[39m\u001b[33m\"\u001b[39m, dtype=\u001b[38;5;28mint\u001b[39m)\n",
            "\u001b[36mFile \u001b[39m\u001b[32m~\\AppData\\Local\\Packages\\PythonSoftwareFoundation.Python.3.11_qbz5n2kfra8p0\\LocalCache\\local-packages\\Python311\\site-packages\\numpy\\lib\\_npyio_impl.py:1395\u001b[39m, in \u001b[36mloadtxt\u001b[39m\u001b[34m(fname, dtype, comments, delimiter, converters, skiprows, usecols, unpack, ndmin, encoding, max_rows, quotechar, like)\u001b[39m\n\u001b[32m   1392\u001b[39m \u001b[38;5;28;01mif\u001b[39;00m \u001b[38;5;28misinstance\u001b[39m(delimiter, \u001b[38;5;28mbytes\u001b[39m):\n\u001b[32m   1393\u001b[39m     delimiter = delimiter.decode(\u001b[33m'\u001b[39m\u001b[33mlatin1\u001b[39m\u001b[33m'\u001b[39m)\n\u001b[32m-> \u001b[39m\u001b[32m1395\u001b[39m arr = \u001b[43m_read\u001b[49m\u001b[43m(\u001b[49m\u001b[43mfname\u001b[49m\u001b[43m,\u001b[49m\u001b[43m \u001b[49m\u001b[43mdtype\u001b[49m\u001b[43m=\u001b[49m\u001b[43mdtype\u001b[49m\u001b[43m,\u001b[49m\u001b[43m \u001b[49m\u001b[43mcomment\u001b[49m\u001b[43m=\u001b[49m\u001b[43mcomment\u001b[49m\u001b[43m,\u001b[49m\u001b[43m \u001b[49m\u001b[43mdelimiter\u001b[49m\u001b[43m=\u001b[49m\u001b[43mdelimiter\u001b[49m\u001b[43m,\u001b[49m\n\u001b[32m   1396\u001b[39m \u001b[43m            \u001b[49m\u001b[43mconverters\u001b[49m\u001b[43m=\u001b[49m\u001b[43mconverters\u001b[49m\u001b[43m,\u001b[49m\u001b[43m \u001b[49m\u001b[43mskiplines\u001b[49m\u001b[43m=\u001b[49m\u001b[43mskiprows\u001b[49m\u001b[43m,\u001b[49m\u001b[43m \u001b[49m\u001b[43musecols\u001b[49m\u001b[43m=\u001b[49m\u001b[43musecols\u001b[49m\u001b[43m,\u001b[49m\n\u001b[32m   1397\u001b[39m \u001b[43m            \u001b[49m\u001b[43munpack\u001b[49m\u001b[43m=\u001b[49m\u001b[43munpack\u001b[49m\u001b[43m,\u001b[49m\u001b[43m \u001b[49m\u001b[43mndmin\u001b[49m\u001b[43m=\u001b[49m\u001b[43mndmin\u001b[49m\u001b[43m,\u001b[49m\u001b[43m \u001b[49m\u001b[43mencoding\u001b[49m\u001b[43m=\u001b[49m\u001b[43mencoding\u001b[49m\u001b[43m,\u001b[49m\n\u001b[32m   1398\u001b[39m \u001b[43m            \u001b[49m\u001b[43mmax_rows\u001b[49m\u001b[43m=\u001b[49m\u001b[43mmax_rows\u001b[49m\u001b[43m,\u001b[49m\u001b[43m \u001b[49m\u001b[43mquote\u001b[49m\u001b[43m=\u001b[49m\u001b[43mquotechar\u001b[49m\u001b[43m)\u001b[49m\n\u001b[32m   1400\u001b[39m \u001b[38;5;28;01mreturn\u001b[39;00m arr\n",
            "\u001b[36mFile \u001b[39m\u001b[32m~\\AppData\\Local\\Packages\\PythonSoftwareFoundation.Python.3.11_qbz5n2kfra8p0\\LocalCache\\local-packages\\Python311\\site-packages\\numpy\\lib\\_npyio_impl.py:1022\u001b[39m, in \u001b[36m_read\u001b[39m\u001b[34m(fname, delimiter, comment, quote, imaginary_unit, usecols, skiplines, max_rows, converters, ndmin, unpack, dtype, encoding)\u001b[39m\n\u001b[32m   1020\u001b[39m     fname = os.fspath(fname)\n\u001b[32m   1021\u001b[39m \u001b[38;5;28;01mif\u001b[39;00m \u001b[38;5;28misinstance\u001b[39m(fname, \u001b[38;5;28mstr\u001b[39m):\n\u001b[32m-> \u001b[39m\u001b[32m1022\u001b[39m     fh = \u001b[43mnp\u001b[49m\u001b[43m.\u001b[49m\u001b[43mlib\u001b[49m\u001b[43m.\u001b[49m\u001b[43m_datasource\u001b[49m\u001b[43m.\u001b[49m\u001b[43mopen\u001b[49m\u001b[43m(\u001b[49m\u001b[43mfname\u001b[49m\u001b[43m,\u001b[49m\u001b[43m \u001b[49m\u001b[33;43m'\u001b[39;49m\u001b[33;43mrt\u001b[39;49m\u001b[33;43m'\u001b[39;49m\u001b[43m,\u001b[49m\u001b[43m \u001b[49m\u001b[43mencoding\u001b[49m\u001b[43m=\u001b[49m\u001b[43mencoding\u001b[49m\u001b[43m)\u001b[49m\n\u001b[32m   1023\u001b[39m     \u001b[38;5;28;01mif\u001b[39;00m encoding \u001b[38;5;129;01mis\u001b[39;00m \u001b[38;5;28;01mNone\u001b[39;00m:\n\u001b[32m   1024\u001b[39m         encoding = \u001b[38;5;28mgetattr\u001b[39m(fh, \u001b[33m'\u001b[39m\u001b[33mencoding\u001b[39m\u001b[33m'\u001b[39m, \u001b[33m'\u001b[39m\u001b[33mlatin1\u001b[39m\u001b[33m'\u001b[39m)\n",
            "\u001b[36mFile \u001b[39m\u001b[32m~\\AppData\\Local\\Packages\\PythonSoftwareFoundation.Python.3.11_qbz5n2kfra8p0\\LocalCache\\local-packages\\Python311\\site-packages\\numpy\\lib\\_datasource.py:192\u001b[39m, in \u001b[36mopen\u001b[39m\u001b[34m(path, mode, destpath, encoding, newline)\u001b[39m\n\u001b[32m    155\u001b[39m \u001b[38;5;250m\u001b[39m\u001b[33;03m\"\"\"\u001b[39;00m\n\u001b[32m    156\u001b[39m \u001b[33;03mOpen `path` with `mode` and return the file object.\u001b[39;00m\n\u001b[32m    157\u001b[39m \n\u001b[32m   (...)\u001b[39m\u001b[32m    188\u001b[39m \n\u001b[32m    189\u001b[39m \u001b[33;03m\"\"\"\u001b[39;00m\n\u001b[32m    191\u001b[39m ds = DataSource(destpath)\n\u001b[32m--> \u001b[39m\u001b[32m192\u001b[39m \u001b[38;5;28;01mreturn\u001b[39;00m \u001b[43mds\u001b[49m\u001b[43m.\u001b[49m\u001b[43mopen\u001b[49m\u001b[43m(\u001b[49m\u001b[43mpath\u001b[49m\u001b[43m,\u001b[49m\u001b[43m \u001b[49m\u001b[43mmode\u001b[49m\u001b[43m,\u001b[49m\u001b[43m \u001b[49m\u001b[43mencoding\u001b[49m\u001b[43m=\u001b[49m\u001b[43mencoding\u001b[49m\u001b[43m,\u001b[49m\u001b[43m \u001b[49m\u001b[43mnewline\u001b[49m\u001b[43m=\u001b[49m\u001b[43mnewline\u001b[49m\u001b[43m)\u001b[49m\n",
            "\u001b[36mFile \u001b[39m\u001b[32m~\\AppData\\Local\\Packages\\PythonSoftwareFoundation.Python.3.11_qbz5n2kfra8p0\\LocalCache\\local-packages\\Python311\\site-packages\\numpy\\lib\\_datasource.py:529\u001b[39m, in \u001b[36mDataSource.open\u001b[39m\u001b[34m(self, path, mode, encoding, newline)\u001b[39m\n\u001b[32m    526\u001b[39m     \u001b[38;5;28;01mreturn\u001b[39;00m _file_openers[ext](found, mode=mode,\n\u001b[32m    527\u001b[39m                               encoding=encoding, newline=newline)\n\u001b[32m    528\u001b[39m \u001b[38;5;28;01melse\u001b[39;00m:\n\u001b[32m--> \u001b[39m\u001b[32m529\u001b[39m     \u001b[38;5;28;01mraise\u001b[39;00m \u001b[38;5;167;01mFileNotFoundError\u001b[39;00m(\u001b[33mf\u001b[39m\u001b[33m\"\u001b[39m\u001b[38;5;132;01m{\u001b[39;00mpath\u001b[38;5;132;01m}\u001b[39;00m\u001b[33m not found.\u001b[39m\u001b[33m\"\u001b[39m)\n",
            "\u001b[31mFileNotFoundError\u001b[39m: grayscale_image.txt not found."
          ]
        }
      ],
      "source": [
        "#q4 b\n",
        "# For grayscale\n",
        "grayscale = np.loadtxt(\"grayscale_image.txt\", dtype=int)\n",
        "print(grayscale)\n",
        "\n",
        "# For RGB\n",
        "rgb = np.loadtxt(\"rgb_image.txt\", dtype=int).reshape(-1, 3)\n",
        "print(rgb)\n",
        "\n"
      ]
    }
  ],
  "metadata": {
    "colab": {
      "provenance": []
    },
    "kernelspec": {
      "display_name": "Python 3",
      "name": "python3"
    },
    "language_info": {
      "codemirror_mode": {
        "name": "ipython",
        "version": 3
      },
      "file_extension": ".py",
      "mimetype": "text/x-python",
      "name": "python",
      "nbconvert_exporter": "python",
      "pygments_lexer": "ipython3",
      "version": "3.11.9"
    }
  },
  "nbformat": 4,
  "nbformat_minor": 0
}
